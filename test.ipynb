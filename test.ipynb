{
 "cells": [
  {
   "cell_type": "markdown",
   "metadata": {},
   "source": [
    "Retrieval Augmented Generation"
   ]
  },
  {
   "cell_type": "code",
   "execution_count": 2,
   "metadata": {},
   "outputs": [
    {
     "data": {
      "text/plain": [
       "True"
      ]
     },
     "execution_count": 2,
     "metadata": {},
     "output_type": "execute_result"
    }
   ],
   "source": [
    "# loading all environment variables ready for use\n",
    "import os\n",
    "from dotenv import load_dotenv\n",
    "load_dotenv()"
   ]
  },
  {
   "cell_type": "code",
   "execution_count": 3,
   "metadata": {},
   "outputs": [],
   "source": [
    "os.environ['OPENAI_API_KEY']=os.getenv('OPENAI_API_KEY')"
   ]
  },
  {
   "cell_type": "code",
   "execution_count": 4,
   "metadata": {},
   "outputs": [],
   "source": [
    "from llama_index import VectorStoreIndex, SimpleDirectoryReader\n",
    "documents = SimpleDirectoryReader('data').load_data()\n"
   ]
  },
  {
   "cell_type": "code",
   "execution_count": 5,
   "metadata": {},
   "outputs": [
    {
     "data": {
      "text/plain": [
       "[Document(id_='3ecabc92-8b6b-4645-8d31-bba4bdec36d4', embedding=None, metadata={'page_label': '1', 'file_name': 'user-guide.pdf', 'file_path': 'data\\\\user-guide.pdf', 'file_type': 'application/pdf', 'file_size': 211916, 'creation_date': '2024-02-09', 'last_modified_date': '2024-02-09', 'last_accessed_date': '2024-02-09'}, excluded_embed_metadata_keys=['file_name', 'file_type', 'file_size', 'creation_date', 'last_modified_date', 'last_accessed_date'], excluded_llm_metadata_keys=['file_name', 'file_type', 'file_size', 'creation_date', 'last_modified_date', 'last_accessed_date'], relationships={}, text='  banking on  people  \\n \\n \\n \\n \\n \\nDear Valued Customer,  \\n \\nPlease  read the instructions below before completing the KYC, FATCA & CRS forms in respective to \\nyour account type.  \\n \\nPersonal/ Individual Account:  \\n \\n\\uf0b7 The account holder (s) is / are required to complete and sign the Individual KYC  form in line \\nwith his/her information. In the case of joint account relationship, all account holders are \\nrequired to fill and sign a separate form.  \\n\\uf0b7 Account holders are required to provide his  / her updated  Emirate ID card copy and a copy of \\nhis / her passport . \\n\\uf0b7 Account holder are required to provide signed FATCA and CRS  self-certification / declar ation \\nforms  in the event when no forms  has been obtained previously by you.   \\n\\uf0b7 The CRS / FATCA Self-Certification form provided by the customer will remain valid unless \\nthere is a change in circumstances relating to the account holder’s tax status or other \\nmandatory fields included in the form. The customer must  notify CBI if there is a change in \\ncircumstances that makes the form incorrect, outda ted or incomplete and provide an updated \\nCRS /FATCA  Self-Certification form.  \\n\\uf0b7 If you are a US Person under US Internal Revenue Service (“IRS”) regulations, you are also \\nrequired to complete the relevant IRS/ W9 form . \\n\\uf0b7 Account holder are required to provide an u pdated income proof ( salary  slip, salary certificate, \\nupdated trade License, etc.) . \\n\\uf0b7 If you are completing the KYC, FATCA & CRS forms on behalf of someone else : \\n \\no Please specify in what capacity you are completing the form.  For example, you may be \\nthe custodian or nominee of an account on behalf of the account holder or you may be \\ncompleting the form under a Power of Attorney.  \\no A legal guardian should complete the form on behalf of an account holder who is a \\nminor.  \\n \\n\\uf0b7 Account h older s are required to provide an updated proof of address (utility  bills/Employer \\nLetter/Tenancy Contract / Ijari, others. ). \\n\\uf0b7 Any additional income should be reflected in the KYC and supported by documentation.  \\n\\uf0b7 Expected account activities section sho uld reflect the actual current transaction in the account \\nand should be in line with the account type you acquire in our bank.  \\n \\nEntity/ Corporate Account:  \\n \\n\\uf0b7 Entity controller(s) is / are required to complete the corporate KYC form in line with the entity \\ninformation.  \\n\\uf0b7 Entity controller is required to p rovide an updated trade license/ company certificate . \\n\\uf0b7 All legal document will remain valid unless there is a change in circumstances relating to the \\naccount  (entity)  information provided in the KYC (exam ple: change in ownership , controlling \\npowers, change in name, license activity,… etc., an updated share certificate, Memorandum of \\nassociation, updated board resolutions , etc. to support the changes ). \\n\\uf0b7 Entity controller required to provide an updated IDs and P assports  for all signatories and \\nshareholder s/partner s. \\n\\uf0b7 Entity controller is required to provide  signed FATCA  (W8BEN -E) and entity CRS  self-\\ncertification / declaration forms  in the event when no forms  have been obtai ned previousl y from \\nthe entity.   \\n \\n \\n \\n \\n', start_char_idx=None, end_char_idx=None, text_template='{metadata_str}\\n\\n{content}', metadata_template='{key}: {value}', metadata_seperator='\\n'),\n",
       " Document(id_='8b0fb5e3-df4b-4193-bf2e-ef1e88d18f70', embedding=None, metadata={'page_label': '2', 'file_name': 'user-guide.pdf', 'file_path': 'data\\\\user-guide.pdf', 'file_type': 'application/pdf', 'file_size': 211916, 'creation_date': '2024-02-09', 'last_modified_date': '2024-02-09', 'last_accessed_date': '2024-02-09'}, excluded_embed_metadata_keys=['file_name', 'file_type', 'file_size', 'creation_date', 'last_modified_date', 'last_accessed_date'], excluded_llm_metadata_keys=['file_name', 'file_type', 'file_size', 'creation_date', 'last_modified_date', 'last_accessed_date'], relationships={}, text=' \\n \\n \\n\\uf0b7 The CRS / FATCA Self-Certification form s provided by the entity  will remain valid unless there \\nis a change in circumstances relating to the entity’s  tax status or other mandatory fields \\nincluded in the  form. The controller  must notify CBI if there is a change in circumstances that \\nmakes the form incorrect, outdated or incomplete and provide an updated CRS /FATCA  Self-\\nCertification form.  \\n\\uf0b7 If the entity or any of the partners/ shareholders  are a US Person under US Internal Revenue \\nService (“IRS”) regulations, you are also required to complete the relevant IRS/ W9 form . \\n\\uf0b7 If you are completing the KYC, FATCA & CRS forms on behalf of the entity : \\n \\no Please specify in what capacity you are completin g the form.  For example, you may be \\nthe CEO, CFO, Director, Signatory,  Power of Attorney.  \\n \\n\\uf0b7 Entity controller is required to provide an updated financial statement  as a pr oof of the company \\nturnover and profit . \\n\\uf0b7 Entity controller is required to provide an updated proof of address  for the entity  (utility  bills/ \\nTenancy Contract / Ijari, others ). \\n\\uf0b7 Expected account activities section should reflect the actual current trans action s in the account \\nand should be in line with the account type you acquire in our bank.  \\n \\n \\nNote: Please refer to the CRS Definitions if you require further clarification on the terms used i n the \\nFATCA/CRS Self-Certification / declaration forms.  \\n \\n ', start_char_idx=None, end_char_idx=None, text_template='{metadata_str}\\n\\n{content}', metadata_template='{key}: {value}', metadata_seperator='\\n')]"
      ]
     },
     "execution_count": 5,
     "metadata": {},
     "output_type": "execute_result"
    }
   ],
   "source": [
    "documents"
   ]
  },
  {
   "cell_type": "code",
   "execution_count": 7,
   "metadata": {},
   "outputs": [
    {
     "data": {
      "application/vnd.jupyter.widget-view+json": {
       "model_id": "44f55c72a8d045bd8c057363876421f5",
       "version_major": 2,
       "version_minor": 0
      },
      "text/plain": [
       "Parsing nodes:   0%|          | 0/2 [00:00<?, ?it/s]"
      ]
     },
     "metadata": {},
     "output_type": "display_data"
    },
    {
     "data": {
      "application/vnd.jupyter.widget-view+json": {
       "model_id": "edefadfc078740c7980f6d4f5d6d8c90",
       "version_major": 2,
       "version_minor": 0
      },
      "text/plain": [
       "Generating embeddings:   0%|          | 0/2 [00:00<?, ?it/s]"
      ]
     },
     "metadata": {},
     "output_type": "display_data"
    }
   ],
   "source": [
    "index=VectorStoreIndex.from_documents(documents,show_progress=True)"
   ]
  },
  {
   "cell_type": "code",
   "execution_count": 8,
   "metadata": {},
   "outputs": [
    {
     "data": {
      "text/plain": [
       "<llama_index.indices.vector_store.base.VectorStoreIndex at 0x2129db9ac50>"
      ]
     },
     "execution_count": 8,
     "metadata": {},
     "output_type": "execute_result"
    }
   ],
   "source": [
    "index"
   ]
  },
  {
   "cell_type": "code",
   "execution_count": 9,
   "metadata": {},
   "outputs": [],
   "source": [
    "query_engine = index.as_query_engine()"
   ]
  },
  {
   "cell_type": "code",
   "execution_count": 10,
   "metadata": {},
   "outputs": [
    {
     "data": {
      "text/plain": [
       "<llama_index.query_engine.retriever_query_engine.RetrieverQueryEngine at 0x212a8bd9150>"
      ]
     },
     "execution_count": 10,
     "metadata": {},
     "output_type": "execute_result"
    }
   ],
   "source": [
    "query_engine #it is a query engine to retrieve the documents to a given query"
   ]
  },
  {
   "cell_type": "code",
   "execution_count": 15,
   "metadata": {},
   "outputs": [],
   "source": [
    "response = query_engine.query('what is Individual KYC form?')"
   ]
  },
  {
   "cell_type": "code",
   "execution_count": 16,
   "metadata": {},
   "outputs": [
    {
     "name": "stdout",
     "output_type": "stream",
     "text": [
      "The Individual KYC form is a form that needs to be completed and signed by the account holder(s) for personal/individual accounts. It collects and verifies the account holder's information, such as their Emirate ID card copy, passport copy, and updated income proof. It also includes the account holder's self-certification/declaration for FATCA and CRS compliance. In the case of a joint account, each account holder is required to fill and sign a separate form.\n"
     ]
    }
   ],
   "source": [
    "print(response)"
   ]
  },
  {
   "cell_type": "code",
   "execution_count": 19,
   "metadata": {},
   "outputs": [
    {
     "name": "stdout",
     "output_type": "stream",
     "text": [
      "Final Response: The Individual KYC form is a form that needs to be\n",
      "completed and signed by the account holder(s) for personal/individual\n",
      "accounts. It collects and verifies the account holder's information,\n",
      "such as their Emirate ID card copy, passport copy, and updated income\n",
      "proof. It also includes the account holder's self-\n",
      "certification/declaration for FATCA and CRS compliance. In the case of\n",
      "a joint account, each account holder is required to fill and sign a\n",
      "separate form.\n",
      "______________________________________________________________________\n",
      "Source Node 1/2\n",
      "Node ID: 521b8bf4-0dd0-47e4-a930-07b345b70a8d\n",
      "Similarity: 0.8476141455153147\n",
      "Text: banking on  people             Dear Valued Customer,     Please\n",
      "read the instructions below before completing the KYC, FATCA & CRS\n",
      "forms in respective to  your account type.     Personal/ Individual\n",
      "Account:      The account holder (s) is / are required to complete\n",
      "and sign the Individual KYC  form in line  with his/her information.\n",
      "In the cas...\n",
      "______________________________________________________________________\n",
      "Source Node 2/2\n",
      "Node ID: ccfd9ffa-c166-4fa9-94de-159cb6cd0692\n",
      "Similarity: 0.808688297989521\n",
      "Text:  The CRS / FATCA Self-Certification form s provided by the\n",
      "entity  will remain valid unless there  is a change in circumstances\n",
      "relating to the entity’s  tax status or other mandatory fields\n",
      "included in the  form. The controller  must notify CBI if there is a\n",
      "change in circumstances that  makes the form incorrect, outdated or\n",
      "incomplete and pr...\n",
      "The Individual KYC form is a form that needs to be completed and signed by the account holder(s) for personal/individual accounts. It collects and verifies the account holder's information, such as their Emirate ID card copy, passport copy, and updated income proof. It also includes the account holder's self-certification/declaration for FATCA and CRS compliance. In the case of a joint account, each account holder is required to fill and sign a separate form.\n"
     ]
    }
   ],
   "source": [
    "# display response much better way\n",
    "\n",
    "from llama_index.response.pprint_utils import pprint_response\n",
    "pprint_response(response,show_source=True)\n",
    "\n",
    "\n",
    "print(response)"
   ]
  },
  {
   "cell_type": "code",
   "execution_count": 38,
   "metadata": {},
   "outputs": [],
   "source": [
    "# getting multiple retrivers\n",
    "\n",
    "from llama_index.retrievers import VectorIndexRetriever\n",
    "from llama_index.query_engine import RetrieverQueryEngine\n",
    "from llama_index.indices.postprocessor import SimilarityPostprocessor\n",
    "\n",
    "\n",
    "retriever = VectorIndexRetriever(index=index,similarity_top_k=4)\n",
    "postprocessor=SimilarityPostprocessor(similarity_cutoff=0.40)\n",
    "\n",
    "query_engine = RetrieverQueryEngine(retriever=retriever, node_postprocessors=[postprocessor])"
   ]
  },
  {
   "cell_type": "code",
   "execution_count": 39,
   "metadata": {},
   "outputs": [],
   "source": [
    "response = query_engine.query('what is KYC?')"
   ]
  },
  {
   "cell_type": "code",
   "execution_count": 40,
   "metadata": {},
   "outputs": [
    {
     "name": "stdout",
     "output_type": "stream",
     "text": [
      "Final Response: KYC stands for Know Your Customer. It is a process\n",
      "that financial institutions and other businesses use to verify the\n",
      "identity of their customers. The purpose of KYC is to prevent identity\n",
      "theft, fraud, money laundering, and other illegal activities. It\n",
      "involves collecting and verifying personal information and\n",
      "documentation from customers, such as identification cards, passports,\n",
      "proof of address, and other relevant documents.\n",
      "______________________________________________________________________\n",
      "Source Node 1/2\n",
      "Node ID: 521b8bf4-0dd0-47e4-a930-07b345b70a8d\n",
      "Similarity: 0.7975573151988193\n",
      "Text: banking on  people             Dear Valued Customer,     Please\n",
      "read the instructions below before completing the KYC, FATCA & CRS\n",
      "forms in respective to  your account type.     Personal/ Individual\n",
      "Account:      The account holder (s) is / are required to complete\n",
      "and sign the Individual KYC  form in line  with his/her information.\n",
      "In the cas...\n",
      "______________________________________________________________________\n",
      "Source Node 2/2\n",
      "Node ID: ccfd9ffa-c166-4fa9-94de-159cb6cd0692\n",
      "Similarity: 0.7703342139092242\n",
      "Text:  The CRS / FATCA Self-Certification form s provided by the\n",
      "entity  will remain valid unless there  is a change in circumstances\n",
      "relating to the entity’s  tax status or other mandatory fields\n",
      "included in the  form. The controller  must notify CBI if there is a\n",
      "change in circumstances that  makes the form incorrect, outdated or\n",
      "incomplete and pr...\n",
      "KYC stands for Know Your Customer. It is a process that financial institutions and other businesses use to verify the identity of their customers. The purpose of KYC is to prevent identity theft, fraud, money laundering, and other illegal activities. It involves collecting and verifying personal information and documentation from customers, such as identification cards, passports, proof of address, and other relevant documents.\n"
     ]
    }
   ],
   "source": [
    "# display response much better way\n",
    "\n",
    "from llama_index.response.pprint_utils import pprint_response\n",
    "pprint_response(response,show_source=True)\n",
    "print(response)"
   ]
  },
  {
   "cell_type": "code",
   "execution_count": 41,
   "metadata": {},
   "outputs": [
    {
     "name": "stdout",
     "output_type": "stream",
     "text": [
      "KYC stands for Know Your Customer.\n"
     ]
    }
   ],
   "source": [
    "import os.path\n",
    "from llama_index import (\n",
    "    VectorStoreIndex,\n",
    "    SimpleDirectoryReader,\n",
    "    StorageContext,\n",
    "    load_index_from_storage,\n",
    ")\n",
    "\n",
    "# check if storage already exists\n",
    "PERSIST_DIR = \"./storage\"\n",
    "if not os.path.exists(PERSIST_DIR):\n",
    "    # load the documents and create the index\n",
    "    documents = SimpleDirectoryReader(\"data\").load_data()\n",
    "    index = VectorStoreIndex.from_documents(documents)\n",
    "    # store it for later\n",
    "    index.storage_context.persist(persist_dir=PERSIST_DIR)\n",
    "else:\n",
    "    # load the existing index\n",
    "    storage_context = StorageContext.from_defaults(persist_dir=PERSIST_DIR)\n",
    "    index = load_index_from_storage(storage_context)\n",
    "\n",
    "# either way we can now query the index\n",
    "query_engine = index.as_query_engine()\n",
    "response = query_engine.query(\"What is KYC?\")\n",
    "print(response)"
   ]
  }
 ],
 "metadata": {
  "kernelspec": {
   "display_name": "base",
   "language": "python",
   "name": "python3"
  },
  "language_info": {
   "codemirror_mode": {
    "name": "ipython",
    "version": 3
   },
   "file_extension": ".py",
   "mimetype": "text/x-python",
   "name": "python",
   "nbconvert_exporter": "python",
   "pygments_lexer": "ipython3",
   "version": "3.11.5"
  }
 },
 "nbformat": 4,
 "nbformat_minor": 2
}
