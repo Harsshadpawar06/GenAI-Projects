{
 "cells": [
  {
   "cell_type": "markdown",
   "metadata": {},
   "source": [
    "To get started, let’s try a simple example using the Gemini-Pro model."
   ]
  },
  {
   "cell_type": "code",
   "execution_count": 1,
   "metadata": {},
   "outputs": [
    {
     "name": "stderr",
     "output_type": "stream",
     "text": [
      "c:\\Users\\harsh\\anaconda3\\envs\\development\\lib\\site-packages\\tqdm\\auto.py:21: TqdmWarning: IProgress not found. Please update jupyter and ipywidgets. See https://ipywidgets.readthedocs.io/en/stable/user_install.html\n",
      "  from .autonotebook import tqdm as notebook_tqdm\n"
     ]
    },
    {
     "name": "stdout",
     "output_type": "stream",
     "text": [
      "Google Vertex AI is a managed machine learning platform that provides a unified experience for developing, deploying, and managing machine learning models. It offers a wide range of features and services to help users build and deploy models quickly and easily, including:\n",
      "\n",
      "* **AutoML:** A set of pre-built machine learning models that can be used for a variety of tasks, such as image classification, object detection, and natural language processing.\n",
      "* **Custom training:** The ability to train your own machine learning models using a variety of frameworks and tools.\n",
      "* **Model deployment:** The ability to deploy your models to a variety of platforms, including Google Cloud, Kubernetes, and mobile devices.\n",
      "* **Model management:** The ability to track and manage your models over time, including monitoring their performance and retraining them as needed.\n",
      "* **Data labeling:** A set of tools and services to help you label your data for machine learning training.\n",
      "* **Feature engineering:** A set of tools and services to help you extract features from your data for machine learning training.\n",
      "* **Hyperparameter tuning:** A set of tools and services to help you find the optimal hyperparameters for your machine learning models.\n",
      "\n",
      "Google Vertex AI is designed to make it easy for users of all skill levels to build and deploy machine learning models. It is a powerful platform that can be used to solve a wide range of problems, from image classification to natural language processing.\n",
      "\n",
      "Here are some of the benefits of using Google Vertex AI:\n",
      "\n",
      "* **Accelerated time to value:** Vertex AI provides a variety of tools and services that can help you build and deploy machine learning models quickly and easily. This can help you save time and money, and get your models into production faster.\n",
      "* **Improved model performance:** Vertex AI provides a variety of features and services that can help you improve the performance of your machine learning models. This can lead to better results and more accurate predictions.\n",
      "* **Reduced risk:** Vertex AI provides a variety of tools and services that can help you reduce the risk of deploying machine learning models. This can help you avoid costly mistakes and ensure that your models are safe and reliable.\n",
      "* **Increased agility:** Vertex AI provides a variety of tools and services that can help you make your machine learning models more agile. This can help you respond to changing business needs and keep your models up-to-date.\n",
      "\n",
      "Overall, Google Vertex AI is a powerful platform that can help you build and deploy machine learning models quickly, easily, and safely. It is a valuable tool for any organization that wants to use machine learning to solve business problems.\n"
     ]
    }
   ],
   "source": [
    "from langchain_google_genai import ChatGoogleGenerativeAI\n",
    "\n",
    "# setup the gemini pro\n",
    "gemini_llm = ChatGoogleGenerativeAI(model=\"gemini-pro\",temperature=0.3)\n",
    "\n",
    "result = gemini_llm.invoke(\"what is google vertex ai?\")\n",
    "print(result.content)"
   ]
  },
  {
   "cell_type": "markdown",
   "metadata": {},
   "source": [
    "Try With Prompt Template"
   ]
  }
 ],
 "metadata": {
  "kernelspec": {
   "display_name": "development",
   "language": "python",
   "name": "python3"
  },
  "language_info": {
   "codemirror_mode": {
    "name": "ipython",
    "version": 3
   },
   "file_extension": ".py",
   "mimetype": "text/x-python",
   "name": "python",
   "nbconvert_exporter": "python",
   "pygments_lexer": "ipython3",
   "version": "3.10.0"
  }
 },
 "nbformat": 4,
 "nbformat_minor": 2
}
